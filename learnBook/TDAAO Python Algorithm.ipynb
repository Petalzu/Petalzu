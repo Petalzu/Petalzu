{
 "cells": [
  {
   "cell_type": "markdown",
   "metadata": {},
   "source": [
    "2.排序算法\n",
    "初级排序算法包括插入排序，选择排序和冒泡排序。\n",
    "如果使用算法排序后，某些具有相同关键字地元素相对数顺序不变，那么称这个排序算法为稳定的排序算法。\n",
    "稳定的排序算法有：冒泡排序，插入排序，归并排序。\n",
    "不稳定的排序算法：选择排序，希尔排序，快速排序。\n",
    "#插入排序是把给定数组元素依次插入新数组中。平均时间复杂度O(n^2)最好O(n)最坏O(n^2)空间O(1)。"
   ]
  },
  {
   "cell_type": "code",
   "execution_count": 2,
   "metadata": {},
   "outputs": [
    {
     "name": "stdout",
     "output_type": "stream",
     "text": [
      "[5, 3, 6, 4, 1, 2, 8, 7]\n"
     ]
    }
   ],
   "source": [
    "#插入排序代码\n",
    "nums = [5,3,6,4,1,2,8,7]\n",
    "for i in range(1,len(nums)):\n",
    "    for j in range(i):\n",
    "        if nums[j] > nums[i]:\n",
    "            ins = nums[i]\n",
    "            nums.pop(i)\n",
    "            nums.insert(i,ins)\n",
    "            break\n",
    "print(nums)"
   ]
  }
 ],
 "metadata": {
  "kernelspec": {
   "display_name": "Python 3.9.7 ('base')",
   "language": "python",
   "name": "python3"
  },
  "language_info": {
   "codemirror_mode": {
    "name": "ipython",
    "version": 3
   },
   "file_extension": ".py",
   "mimetype": "text/x-python",
   "name": "python",
   "nbconvert_exporter": "python",
   "pygments_lexer": "ipython3",
   "version": "3.9.13"
  },
  "orig_nbformat": 4,
  "vscode": {
   "interpreter": {
    "hash": "5179d32cf6ec497baf3f8a3ef987cc77c5d2dc691fdde20a56316522f61a7323"
   }
  }
 },
 "nbformat": 4,
 "nbformat_minor": 2
}
