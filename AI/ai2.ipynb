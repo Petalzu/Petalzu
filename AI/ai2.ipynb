{
 "cells": [
  {
   "cell_type": "code",
   "execution_count": 65,
   "metadata": {},
   "outputs": [
    {
     "ename": "ValueError",
     "evalue": "all the input array dimensions for the concatenation axis must match exactly, but along dimension 0, the array at index 0 has size 39 and the array at index 2 has size 1",
     "output_type": "error",
     "traceback": [
      "\u001b[1;31m---------------------------------------------------------------------------\u001b[0m",
      "\u001b[1;31mValueError\u001b[0m                                Traceback (most recent call last)",
      "\u001b[1;32m~\\AppData\\Local\\Temp/ipykernel_8196/2357823812.py\u001b[0m in \u001b[0;36m<module>\u001b[1;34m\u001b[0m\n\u001b[0;32m     45\u001b[0m         \u001b[0mPrice\u001b[0m \u001b[1;33m=\u001b[0m \u001b[0mnp\u001b[0m\u001b[1;33m.\u001b[0m\u001b[0marray\u001b[0m\u001b[1;33m(\u001b[0m\u001b[0mPrice\u001b[0m\u001b[1;33m)\u001b[0m\u001b[1;33m[\u001b[0m \u001b[1;33m:\u001b[0m \u001b[1;33m,\u001b[0m \u001b[0mnp\u001b[0m\u001b[1;33m.\u001b[0m\u001b[0mnewaxis\u001b[0m\u001b[1;33m]\u001b[0m\u001b[1;33m\u001b[0m\u001b[1;33m\u001b[0m\u001b[0m\n\u001b[0;32m     46\u001b[0m         \u001b[0mheader_list\u001b[0m \u001b[1;33m=\u001b[0m \u001b[1;33m[\u001b[0m\u001b[1;34m'Area'\u001b[0m\u001b[1;33m,\u001b[0m\u001b[1;34m'Price'\u001b[0m\u001b[1;33m,\u001b[0m\u001b[1;34m'a=2,b=9'\u001b[0m\u001b[1;33m,\u001b[0m\u001b[1;34m'a=4,b=8'\u001b[0m\u001b[1;33m,\u001b[0m\u001b[1;34m'a=3,b=7'\u001b[0m\u001b[1;33m,\u001b[0m\u001b[1;34m'a=2,b=5'\u001b[0m\u001b[1;33m,\u001b[0m\u001b[1;34m'a=4,b=3'\u001b[0m\u001b[1;33m]\u001b[0m\u001b[1;33m\u001b[0m\u001b[1;33m\u001b[0m\u001b[0m\n\u001b[1;32m---> 47\u001b[1;33m         \u001b[0me\u001b[0m \u001b[1;33m=\u001b[0m \u001b[0mnp\u001b[0m\u001b[1;33m.\u001b[0m\u001b[0mhstack\u001b[0m\u001b[1;33m(\u001b[0m\u001b[1;33m(\u001b[0m\u001b[0mArea\u001b[0m\u001b[1;33m,\u001b[0m\u001b[0mPrice\u001b[0m\u001b[1;33m,\u001b[0m\u001b[0mPredict1\u001b[0m\u001b[1;33m,\u001b[0m\u001b[0mPredict2\u001b[0m\u001b[1;33m,\u001b[0m\u001b[0mPredict3\u001b[0m\u001b[1;33m,\u001b[0m\u001b[0mPredict4\u001b[0m\u001b[1;33m,\u001b[0m\u001b[0mPredict5\u001b[0m\u001b[1;33m)\u001b[0m\u001b[1;33m)\u001b[0m\u001b[1;33m\u001b[0m\u001b[1;33m\u001b[0m\u001b[0m\n\u001b[0m\u001b[0;32m     48\u001b[0m         data_list = [\n\u001b[0;32m     49\u001b[0m             \u001b[0me\u001b[0m\u001b[1;33m\u001b[0m\u001b[1;33m\u001b[0m\u001b[0m\n",
      "\u001b[1;32m<__array_function__ internals>\u001b[0m in \u001b[0;36mhstack\u001b[1;34m(*args, **kwargs)\u001b[0m\n",
      "\u001b[1;32mD:\\anaconda\\lib\\site-packages\\numpy\\core\\shape_base.py\u001b[0m in \u001b[0;36mhstack\u001b[1;34m(tup)\u001b[0m\n\u001b[0;32m    344\u001b[0m         \u001b[1;32mreturn\u001b[0m \u001b[0m_nx\u001b[0m\u001b[1;33m.\u001b[0m\u001b[0mconcatenate\u001b[0m\u001b[1;33m(\u001b[0m\u001b[0marrs\u001b[0m\u001b[1;33m,\u001b[0m \u001b[1;36m0\u001b[0m\u001b[1;33m)\u001b[0m\u001b[1;33m\u001b[0m\u001b[1;33m\u001b[0m\u001b[0m\n\u001b[0;32m    345\u001b[0m     \u001b[1;32melse\u001b[0m\u001b[1;33m:\u001b[0m\u001b[1;33m\u001b[0m\u001b[1;33m\u001b[0m\u001b[0m\n\u001b[1;32m--> 346\u001b[1;33m         \u001b[1;32mreturn\u001b[0m \u001b[0m_nx\u001b[0m\u001b[1;33m.\u001b[0m\u001b[0mconcatenate\u001b[0m\u001b[1;33m(\u001b[0m\u001b[0marrs\u001b[0m\u001b[1;33m,\u001b[0m \u001b[1;36m1\u001b[0m\u001b[1;33m)\u001b[0m\u001b[1;33m\u001b[0m\u001b[1;33m\u001b[0m\u001b[0m\n\u001b[0m\u001b[0;32m    347\u001b[0m \u001b[1;33m\u001b[0m\u001b[0m\n\u001b[0;32m    348\u001b[0m \u001b[1;33m\u001b[0m\u001b[0m\n",
      "\u001b[1;32m<__array_function__ internals>\u001b[0m in \u001b[0;36mconcatenate\u001b[1;34m(*args, **kwargs)\u001b[0m\n",
      "\u001b[1;31mValueError\u001b[0m: all the input array dimensions for the concatenation axis must match exactly, but along dimension 0, the array at index 0 has size 39 and the array at index 2 has size 1"
     ]
    }
   ],
   "source": [
    "import csv\n",
    "import numpy as np\n",
    "from numpy import array\n",
    "import pandas as pd\n",
    "with open('price.csv') as csv_file:\n",
    "    row = csv.reader(csv_file,delimiter=',')\n",
    "    next(row)\n",
    "    Area = []\n",
    "    Price = []\n",
    "    for r in row:\n",
    "        Area.append(int(r[0]))\n",
    "        Price.append(float(r[1]))\n",
    "    for area in Area:\n",
    "        a=2\n",
    "        b=9\n",
    "        predict1 = a*area + b\n",
    "        Predict1 = []\n",
    "        Predict1.append(predict1)\n",
    "        a=4\n",
    "        b=8\n",
    "        predict2 = a*area + b\n",
    "        Predict2 = []\n",
    "        Predict2.append(predict2)\n",
    "        a=3\n",
    "        b=7\n",
    "        predict3 = a*area + b\n",
    "        Predict3 = []\n",
    "        Predict3.append(predict3)\n",
    "        a=2\n",
    "        b=5\n",
    "        predict4 = a*area + b\n",
    "        Predict4 = []\n",
    "        Predict4.append(predict4)\n",
    "        a=4\n",
    "        b=3\n",
    "        predict5 = a*area + b\n",
    "        Predict5 = []\n",
    "        Predict5.append(predict5)\n",
    "        Predict1 = np.array(Predict1)[ : , np.newaxis]\n",
    "        Predict2 = np.array(Predict2)[ : , np.newaxis]\n",
    "        Predict3 = np.array(Predict3)[ : , np.newaxis]\n",
    "        Predict4 = np.array(Predict4)[ : , np.newaxis]\n",
    "        Predict5 = np.array(Predict5)[ : , np.newaxis]\n",
    "        Area = np.array(Area)[ : , np.newaxis]\n",
    "        Price = np.array(Price)[ : , np.newaxis]\n",
    "        header_list = ['Area','Price','a=2,b=9','a=4,b=8','a=3,b=7','a=2,b=5','a=4,b=3']\n",
    "        e = np.hstack((Area,Price,Predict1,Predict2,Predict3,Predict4,Predict5))\n",
    "        data_list = [\n",
    "            e\n",
    "        ]\n",
    "        with open('price.csv',mode='w',encoding=\"utf-8-sig\",newline='') as f:\n",
    "            writer = csv.writer(f)\n",
    "            writer.writerow(header_list)\n",
    "            writer.writerows(data_list)"
   ]
  },
  {
   "cell_type": "code",
   "execution_count": null,
   "metadata": {},
   "outputs": [
    {
     "ename": "TypeError",
     "evalue": "can only concatenate tuple (not \"numpy.ndarray\") to tuple",
     "output_type": "error",
     "traceback": [
      "\u001b[1;31m---------------------------------------------------------------------------\u001b[0m",
      "\u001b[1;31mTypeError\u001b[0m                                 Traceback (most recent call last)",
      "\u001b[1;32m~\\AppData\\Local\\Temp/ipykernel_8196/3615471089.py\u001b[0m in \u001b[0;36m<module>\u001b[1;34m\u001b[0m\n\u001b[0;32m      2\u001b[0m     \u001b[0mrmse\u001b[0m \u001b[1;33m=\u001b[0m \u001b[1;33m(\u001b[0m\u001b[0mi\u001b[0m \u001b[1;33m-\u001b[0m \u001b[0mj\u001b[0m\u001b[1;33m)\u001b[0m\u001b[1;33m**\u001b[0m\u001b[1;36m2\u001b[0m\u001b[1;33m\u001b[0m\u001b[1;33m\u001b[0m\u001b[0m\n\u001b[0;32m      3\u001b[0m     \u001b[0mRMS\u001b[0m \u001b[1;33m=\u001b[0m \u001b[1;33m(\u001b[0m\u001b[1;33m)\u001b[0m\u001b[1;33m\u001b[0m\u001b[1;33m\u001b[0m\u001b[0m\n\u001b[1;32m----> 4\u001b[1;33m     \u001b[0mRMS\u001b[0m\u001b[1;33m.\u001b[0m\u001b[0m__add__\u001b[0m\u001b[1;33m(\u001b[0m\u001b[0mrmse\u001b[0m\u001b[1;33m)\u001b[0m\u001b[1;33m\u001b[0m\u001b[1;33m\u001b[0m\u001b[0m\n\u001b[0m\u001b[0;32m      5\u001b[0m     \u001b[0mRMSE1\u001b[0m \u001b[1;33m=\u001b[0m \u001b[1;33m(\u001b[0m\u001b[0msum\u001b[0m\u001b[1;33m(\u001b[0m\u001b[0mRMS\u001b[0m\u001b[1;33m)\u001b[0m\u001b[1;33m/\u001b[0m\u001b[1;36m39\u001b[0m\u001b[1;33m)\u001b[0m\u001b[1;33m**\u001b[0m\u001b[1;33m(\u001b[0m\u001b[1;36m1\u001b[0m\u001b[1;33m/\u001b[0m\u001b[1;36m2\u001b[0m\u001b[1;33m)\u001b[0m\u001b[1;33m\u001b[0m\u001b[1;33m\u001b[0m\u001b[0m\n\u001b[0;32m      6\u001b[0m \u001b[0mprint\u001b[0m\u001b[1;33m(\u001b[0m\u001b[0mRMSE1\u001b[0m\u001b[1;33m)\u001b[0m\u001b[1;33m\u001b[0m\u001b[1;33m\u001b[0m\u001b[0m\n",
      "\u001b[1;31mTypeError\u001b[0m: can only concatenate tuple (not \"numpy.ndarray\") to tuple"
     ]
    }
   ],
   "source": [
    "for i ,j in zip(Predict1,Price):\n",
    "    rmse = (i - j)**2\n",
    "    RMS = ()\n",
    "    RMS.__add__(rmse)\n",
    "    RMSE1 = (sum(RMS)/39)**(1/2)\n",
    "print(RMSE1)\n",
    "for i ,j in zip(Predict2,Price):\n",
    "    rmse = (i - j)**2\n",
    "    RMS = ()\n",
    "    RMS.__add__(rmse)\n",
    "    RMSE2 = (sum(RMS)/39)**(1/2)\n",
    "print(RMSE2)\n",
    "for i ,j in zip(Predict3,Price):\n",
    "    rmse = (i - j)**2\n",
    "    RMS = ()\n",
    "    RMS.__add__(rmse)\n",
    "    RMSE3 = (sum(RMS)/39)**(1/2)\n",
    "print(RMSE3)\n",
    "for i ,j in zip(Predict4,Price):\n",
    "    rmse = (i - j)**2\n",
    "    RMS = ()\n",
    "    RMS.__add__(rmse)\n",
    "    RMSE4 = (sum(RMS)/39)**(1/2)\n",
    "print(RMSE4)\n",
    "for i ,j in zip(Predict5,Price):\n",
    "    rmse = (i - j)**2\n",
    "    RMS = ()\n",
    "    RMS.__add__(rmse)\n",
    "    RMSE5 = (sum(RMS)/39)**(1/2)\n",
    "print(RMSE5)"
   ]
  },
  {
   "cell_type": "code",
   "execution_count": null,
   "metadata": {},
   "outputs": [
    {
     "ename": "ValueError",
     "evalue": "min() arg is an empty sequence",
     "output_type": "error",
     "traceback": [
      "\u001b[1;31m---------------------------------------------------------------------------\u001b[0m",
      "\u001b[1;31mValueError\u001b[0m                                Traceback (most recent call last)",
      "\u001b[1;32m~\\AppData\\Local\\Temp/ipykernel_8196/2108228763.py\u001b[0m in \u001b[0;36m<module>\u001b[1;34m\u001b[0m\n\u001b[0;32m     12\u001b[0m         \u001b[1;32melse\u001b[0m\u001b[1;33m:\u001b[0m\u001b[1;33m\u001b[0m\u001b[1;33m\u001b[0m\u001b[0m\n\u001b[0;32m     13\u001b[0m             \u001b[1;32mreturn\u001b[0m \u001b[1;32mNone\u001b[0m\u001b[1;33m\u001b[0m\u001b[1;33m\u001b[0m\u001b[0m\n\u001b[1;32m---> 14\u001b[1;33m \u001b[0mposition\u001b[0m \u001b[1;33m=\u001b[0m \u001b[0mint\u001b[0m\u001b[1;33m(\u001b[0m\u001b[0mz\u001b[0m\u001b[1;33m.\u001b[0m\u001b[0mindex\u001b[0m\u001b[1;33m(\u001b[0m\u001b[0mmin\u001b[0m\u001b[1;33m(\u001b[0m\u001b[0mz\u001b[0m\u001b[1;33m)\u001b[0m\u001b[1;33m)\u001b[0m\u001b[1;33m)\u001b[0m\u001b[1;33m\u001b[0m\u001b[1;33m\u001b[0m\u001b[0m\n\u001b[0m\u001b[0;32m     15\u001b[0m \u001b[0mx\u001b[0m \u001b[1;33m=\u001b[0m \u001b[0mx\u001b[0m\u001b[1;33m[\u001b[0m\u001b[0mposition\u001b[0m\u001b[1;33m]\u001b[0m\u001b[1;33m\u001b[0m\u001b[1;33m\u001b[0m\u001b[0m\n\u001b[0;32m     16\u001b[0m \u001b[0my\u001b[0m \u001b[1;33m=\u001b[0m \u001b[0my\u001b[0m\u001b[1;33m[\u001b[0m\u001b[0mposition\u001b[0m\u001b[1;33m]\u001b[0m\u001b[1;33m\u001b[0m\u001b[1;33m\u001b[0m\u001b[0m\n",
      "\u001b[1;31mValueError\u001b[0m: min() arg is an empty sequence"
     ]
    }
   ],
   "source": [
    "import math\n",
    "\n",
    "Area1 = 119\n",
    "x1 = [2,4,3,2,4]\n",
    "y1 = [9,8,7,5,3]\n",
    "z = []\n",
    "for x,y in zip(x1,y1):\n",
    "    def get_mse(x1, y1):\n",
    "        if len(x1) == len(y1):\n",
    "            dame = float(sum([(x - y)]) / len(x1))\n",
    "            z.append(dame)\n",
    "        else:\n",
    "            return None\n",
    "position = int(z.index(min(z)))\n",
    "x = x[position]\n",
    "y = y[position]\n",
    "a,b = map(int,input(x).split())\n",
    "PricePredict1 = a*Area1 + b\n"
   ]
  }
 ],
 "metadata": {
  "interpreter": {
   "hash": "4eaf1be304415beee96765ae99c3f893cc8312c7f1196698e6029668e9aeb3e5"
  },
  "kernelspec": {
   "display_name": "Python 3.10.2 64-bit",
   "language": "python",
   "name": "python3"
  },
  "language_info": {
   "codemirror_mode": {
    "name": "ipython",
    "version": 3
   },
   "file_extension": ".py",
   "mimetype": "text/x-python",
   "name": "python",
   "nbconvert_exporter": "python",
   "pygments_lexer": "ipython3",
   "version": "3.9.7"
  },
  "orig_nbformat": 4
 },
 "nbformat": 4,
 "nbformat_minor": 2
}
