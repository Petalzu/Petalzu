{
 "cells": [
  {
   "cell_type": "markdown",
   "metadata": {},
   "source": [
    "Ranking"
   ]
  },
  {
   "cell_type": "code",
   "execution_count": null,
   "metadata": {},
   "outputs": [],
   "source": [
    "a = int(input())\n",
    "b = input().split()\n",
    "b[:] = [int(i) for i in b]\n",
    "c = b[0]\n",
    "b = sorted(b,reverse=True)\n",
    "d = str(b.index(c) + 1)\n",
    "if d[-1] == '1':\n",
    "    print(d+'st')\n",
    "elif d[-1] == '2':\n",
    "    print(d+'nd')\n",
    "elif d[-1] == '3':\n",
    "    print(d+'rd')\n",
    "else:\n",
    "    print(d+'th')"
   ]
  },
  {
   "cell_type": "markdown",
   "metadata": {},
   "source": [
    "Primality Testing"
   ]
  },
  {
   "cell_type": "code",
   "execution_count": 4,
   "metadata": {},
   "outputs": [
    {
     "name": "stdout",
     "output_type": "stream",
     "text": [
      "true\n"
     ]
    }
   ],
   "source": [
    "a = int(input())\n",
    "def solution(a):\n",
    "    i = 2\n",
    "    if a == 1:\n",
    "        return print('false')\n",
    "    else:\n",
    "        pass\n",
    "    while i < a:\n",
    "        b = a%i\n",
    "        i = i+1\n",
    "        if b == 0 :\n",
    "            return print('false')\n",
    "        else:\n",
    "            continue\n",
    "    print('true')\n",
    "solution(a)"
   ]
  },
  {
   "cell_type": "markdown",
   "metadata": {},
   "source": [
    "Factorial"
   ]
  },
  {
   "cell_type": "code",
   "execution_count": 28,
   "metadata": {},
   "outputs": [
    {
     "name": "stdout",
     "output_type": "stream",
     "text": [
      "1\n"
     ]
    }
   ],
   "source": [
    "a = int(input())\n",
    "def solution(a):\n",
    "    i = 1\n",
    "    b = a\n",
    "    if a == 0:\n",
    "        print(1)\n",
    "        return\n",
    "    else:\n",
    "        pass\n",
    "    while i < a:\n",
    "        b = b*i\n",
    "        i = i+1\n",
    "    print(b)\n",
    "solution(a)"
   ]
  },
  {
   "cell_type": "markdown",
   "metadata": {},
   "source": [
    "Permutation and Combination"
   ]
  },
  {
   "cell_type": "code",
   "execution_count": 34,
   "metadata": {},
   "outputs": [
    {
     "name": "stdout",
     "output_type": "stream",
     "text": [
      "6 3\n"
     ]
    }
   ],
   "source": [
    "from math import factorial\n",
    "\n",
    "a = input().split()\n",
    "a[:] = [int(i) for i in a]\n",
    "n = a[0]\n",
    "m = a[1]\n",
    "A = int(factorial(n)/factorial(n-m))\n",
    "C = int(A/factorial(m))\n",
    "\n",
    "print(str(A)+' '+str(C))"
   ]
  },
  {
   "cell_type": "markdown",
   "metadata": {},
   "source": [
    "Recursion"
   ]
  },
  {
   "cell_type": "code",
   "execution_count": 42,
   "metadata": {},
   "outputs": [
    {
     "name": "stdout",
     "output_type": "stream",
     "text": [
      "51\n"
     ]
    }
   ],
   "source": [
    "x = int(input())\n",
    "def f(x):\n",
    "    if x > 0:\n",
    "        return x - f(x-3)\n",
    "    elif x == 0:\n",
    "        return 1\n",
    "    elif x < 0:\n",
    "        return x + f(x+5)\n",
    "print(f(x))"
   ]
  },
  {
   "cell_type": "markdown",
   "metadata": {},
   "source": [
    "Greatest Common Divisor"
   ]
  },
  {
   "cell_type": "code",
   "execution_count": 48,
   "metadata": {},
   "outputs": [
    {
     "name": "stdout",
     "output_type": "stream",
     "text": [
      "36\n"
     ]
    }
   ],
   "source": [
    "a = input().split()\n",
    "a[:] = [int(i) for i in a]\n",
    "p = a[0]\n",
    "q = a[1]\n",
    "def gcd(p,q):\n",
    "    while p != q:\n",
    "        if p > q:\n",
    "            p = p - q\n",
    "        else:\n",
    "            q = q - p\n",
    "    return q\n",
    "print(gcd(p,q))"
   ]
  },
  {
   "cell_type": "markdown",
   "metadata": {},
   "source": [
    "Substring"
   ]
  },
  {
   "cell_type": "code",
   "execution_count": 54,
   "metadata": {},
   "outputs": [
    {
     "name": "stdout",
     "output_type": "stream",
     "text": [
      "Empty String\n"
     ]
    }
   ],
   "source": [
    "a = input()\n",
    "b = input().split()\n",
    "b[:] = [int(i) for i in b]\n",
    "c = a[b[0]-1:b[1]]\n",
    "if len(c) == 0:\n",
    "    print('Empty String')\n",
    "else:\n",
    "    print(c)"
   ]
  },
  {
   "cell_type": "markdown",
   "metadata": {},
   "source": [
    "质合分家 (PA)"
   ]
  },
  {
   "cell_type": "code",
   "execution_count": 57,
   "metadata": {},
   "outputs": [
    {
     "name": "stdout",
     "output_type": "stream",
     "text": [
      "4 6\n"
     ]
    }
   ],
   "source": [
    "a = int(input())\n",
    "b = input().split()\n",
    "b[:] = [int(i) for i in b]\n",
    "c = 0\n",
    "\n",
    "def juc(a):\n",
    "    i = 2\n",
    "    if a == 1:\n",
    "        return 0\n",
    "    else:\n",
    "        pass\n",
    "    while i < a:\n",
    "        b = a%i\n",
    "        i = i+1\n",
    "        if b == 0 :\n",
    "            return 0\n",
    "        else:\n",
    "            continue\n",
    "    return 1\n",
    "\n",
    "for i in b:\n",
    "    if juc(i) == 1:\n",
    "        c = c+1\n",
    "    else:\n",
    "        pass\n",
    "print(str(c)+' '+str(a-c))"
   ]
  },
  {
   "cell_type": "markdown",
   "metadata": {},
   "source": [
    "单位转换"
   ]
  },
  {
   "cell_type": "code",
   "execution_count": 69,
   "metadata": {},
   "outputs": [
    {
     "name": "stdout",
     "output_type": "stream",
     "text": [
      "156G1606812M353K680B\n"
     ]
    }
   ],
   "source": [
    "x = int(input())\n",
    "\n",
    "def sol(x):\n",
    "    if x == 0:\n",
    "        return print(\"0B\")\n",
    "    else:\n",
    "        pass\n",
    "    c = int(x/1024)\n",
    "    d = x%1024\n",
    "    b = int(c/1024)\n",
    "    c = c%1024\n",
    "    a = int(b/1024)\n",
    "    a = b%1024\n",
    "    A = str(a)+'G'\n",
    "    B = str(b)+'M'\n",
    "    C = str(c)+'K'\n",
    "    D = str(d)+'B'\n",
    "    e = [A,B,C,D]\n",
    "    if a == 0:\n",
    "        e.pop(e.index(A))\n",
    "    if b == 0:\n",
    "        e.pop(e.index(B))\n",
    "    if c == 0:\n",
    "        e.pop(e.index(C))\n",
    "    if d == 0:\n",
    "        e.pop(e.index(D))\n",
    "    return print(''.join(e))\n",
    "sol(x)"
   ]
  }
 ],
 "metadata": {
  "kernelspec": {
   "display_name": "Python 3.9.12 ('base')",
   "language": "python",
   "name": "python3"
  },
  "language_info": {
   "codemirror_mode": {
    "name": "ipython",
    "version": 3
   },
   "file_extension": ".py",
   "mimetype": "text/x-python",
   "name": "python",
   "nbconvert_exporter": "python",
   "pygments_lexer": "ipython3",
   "version": "3.9.12"
  },
  "orig_nbformat": 4,
  "vscode": {
   "interpreter": {
    "hash": "5179d32cf6ec497baf3f8a3ef987cc77c5d2dc691fdde20a56316522f61a7323"
   }
  }
 },
 "nbformat": 4,
 "nbformat_minor": 2
}
