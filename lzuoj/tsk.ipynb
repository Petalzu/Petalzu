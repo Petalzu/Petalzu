{
 "cells": [
  {
   "cell_type": "markdown",
   "metadata": {},
   "source": [
    "Ranking"
   ]
  },
  {
   "cell_type": "code",
   "execution_count": null,
   "metadata": {},
   "outputs": [],
   "source": [
    "a = int(input())\n",
    "b = input().split()\n",
    "b[:] = [int(i) for i in b]\n",
    "c = b[0]\n",
    "b = sorted(b,reverse=True)\n",
    "d = str(b.index(c) + 1)\n",
    "if d[-1] == '1':\n",
    "    print(d+'st')\n",
    "elif d[-1] == '2':\n",
    "    print(d+'nd')\n",
    "elif d[-1] == '3':\n",
    "    print(d+'rd')\n",
    "else:\n",
    "    print(d+'th')"
   ]
  },
  {
   "cell_type": "markdown",
   "metadata": {},
   "source": [
    "Primality Testing"
   ]
  },
  {
   "cell_type": "code",
   "execution_count": 4,
   "metadata": {},
   "outputs": [
    {
     "name": "stdout",
     "output_type": "stream",
     "text": [
      "true\n"
     ]
    }
   ],
   "source": [
    "a = int(input())\n",
    "def solution(a):\n",
    "    i = 2\n",
    "    if a == 1:\n",
    "        return print('false')\n",
    "    else:\n",
    "        pass\n",
    "    while i < a:\n",
    "        b = a%i\n",
    "        i = i+1\n",
    "        if b == 0 :\n",
    "            return print('false')\n",
    "        else:\n",
    "            continue\n",
    "    print('true')\n",
    "solution(a)"
   ]
  },
  {
   "cell_type": "markdown",
   "metadata": {},
   "source": [
    "Factorial"
   ]
  },
  {
   "cell_type": "code",
   "execution_count": 28,
   "metadata": {},
   "outputs": [
    {
     "name": "stdout",
     "output_type": "stream",
     "text": [
      "1\n"
     ]
    }
   ],
   "source": [
    "a = int(input())\n",
    "def solution(a):\n",
    "    i = 1\n",
    "    b = a\n",
    "    if a == 0:\n",
    "        print(1)\n",
    "        return\n",
    "    else:\n",
    "        pass\n",
    "    while i < a:\n",
    "        b = b*i\n",
    "        i = i+1\n",
    "    print(b)\n",
    "solution(a)"
   ]
  },
  {
   "cell_type": "markdown",
   "metadata": {},
   "source": [
    "Permutation and Combination"
   ]
  },
  {
   "cell_type": "code",
   "execution_count": 34,
   "metadata": {},
   "outputs": [
    {
     "name": "stdout",
     "output_type": "stream",
     "text": [
      "6 3\n"
     ]
    }
   ],
   "source": [
    "from math import factorial\n",
    "\n",
    "a = input().split()\n",
    "a[:] = [int(i) for i in a]\n",
    "n = a[0]\n",
    "m = a[1]\n",
    "A = int(factorial(n)/factorial(n-m))\n",
    "C = int(A/factorial(m))\n",
    "\n",
    "print(str(A)+' '+str(C))"
   ]
  },
  {
   "cell_type": "markdown",
   "metadata": {},
   "source": [
    "Recursion"
   ]
  },
  {
   "cell_type": "code",
   "execution_count": 42,
   "metadata": {},
   "outputs": [
    {
     "name": "stdout",
     "output_type": "stream",
     "text": [
      "51\n"
     ]
    }
   ],
   "source": [
    "x = int(input())\n",
    "def f(x):\n",
    "    if x > 0:\n",
    "        return x - f(x-3)\n",
    "    elif x == 0:\n",
    "        return 1\n",
    "    elif x < 0:\n",
    "        return x + f(x+5)\n",
    "print(f(x))"
   ]
  },
  {
   "cell_type": "markdown",
   "metadata": {},
   "source": [
    "Greatest Common Divisor"
   ]
  },
  {
   "cell_type": "code",
   "execution_count": 48,
   "metadata": {},
   "outputs": [
    {
     "name": "stdout",
     "output_type": "stream",
     "text": [
      "36\n"
     ]
    }
   ],
   "source": [
    "a = input().split()\n",
    "a[:] = [int(i) for i in a]\n",
    "p = a[0]\n",
    "q = a[1]\n",
    "def gcd(p,q):\n",
    "    while p != q:\n",
    "        if p > q:\n",
    "            p = p - q\n",
    "        else:\n",
    "            q = q - p\n",
    "    return q\n",
    "print(gcd(p,q))"
   ]
  },
  {
   "cell_type": "markdown",
   "metadata": {},
   "source": [
    "Substring"
   ]
  },
  {
   "cell_type": "code",
   "execution_count": 54,
   "metadata": {},
   "outputs": [
    {
     "name": "stdout",
     "output_type": "stream",
     "text": [
      "Empty String\n"
     ]
    }
   ],
   "source": [
    "a = input()\n",
    "b = input().split()\n",
    "b[:] = [int(i) for i in b]\n",
    "c = a[b[0]-1:b[1]]\n",
    "if len(c) == 0:\n",
    "    print('Empty String')\n",
    "else:\n",
    "    print(c)"
   ]
  },
  {
   "cell_type": "markdown",
   "metadata": {},
   "source": [
    "质合分家 (PA)"
   ]
  },
  {
   "cell_type": "code",
   "execution_count": 1,
   "metadata": {},
   "outputs": [
    {
     "name": "stdout",
     "output_type": "stream",
     "text": [
      "0 0\n"
     ]
    }
   ],
   "source": [
    "a = int(input())\n",
    "b = input().split()\n",
    "b[:] = [int(i) for i in b]\n",
    "c = 0\n",
    "\n",
    "def juc(a):\n",
    "    i = 2\n",
    "    if a == 1:\n",
    "        return 0\n",
    "    else:\n",
    "        pass\n",
    "    while i < a:\n",
    "        b = a%i\n",
    "        i = i+1\n",
    "        if b == 0 :\n",
    "            return 0\n",
    "        else:\n",
    "            continue\n",
    "    return 1\n",
    "\n",
    "for i in b:\n",
    "    if i == 1:\n",
    "        a-=1\n",
    "    else:\n",
    "        if juc(i) == 1:\n",
    "            c = c+1\n",
    "        else:\n",
    "            pass\n",
    "print(str(c)+' '+str(a-c))"
   ]
  },
  {
   "cell_type": "markdown",
   "metadata": {},
   "source": [
    "单位转换"
   ]
  },
  {
   "cell_type": "code",
   "execution_count": 5,
   "metadata": {},
   "outputs": [
    {
     "name": "stdout",
     "output_type": "stream",
     "text": [
      "439092G26M326K849B\n"
     ]
    }
   ],
   "source": [
    "x = int(input())\n",
    "\n",
    "def sol(x):\n",
    "    if x == 0:\n",
    "        return print(\"0B\")\n",
    "    else:\n",
    "        pass\n",
    "    c = int(x/1024)\n",
    "    d = x%1024\n",
    "    b = int(c/1024)\n",
    "    c = c%1024\n",
    "    a = int(b/1024)\n",
    "    b = b%1024\n",
    "    A = str(a)+'G'\n",
    "    B = str(b)+'M'\n",
    "    C = str(c)+'K'\n",
    "    D = str(d)+'B'\n",
    "    e = [A,B,C,D]\n",
    "    if a == 0:\n",
    "        e.pop(e.index(A))\n",
    "    if b == 0:\n",
    "        e.pop(e.index(B))\n",
    "    if c == 0:\n",
    "        e.pop(e.index(C))\n",
    "    if d == 0:\n",
    "        e.pop(e.index(D))\n",
    "    return print(''.join(e))\n",
    "sol(x)"
   ]
  },
  {
   "cell_type": "markdown",
   "metadata": {},
   "source": [
    "Mode"
   ]
  },
  {
   "cell_type": "code",
   "execution_count": 6,
   "metadata": {},
   "outputs": [
    {
     "name": "stdout",
     "output_type": "stream",
     "text": [
      "[0 1 2 2]\n"
     ]
    }
   ],
   "source": [
    "import numpy\n",
    "a = int(input())\n",
    "b = input().split()\n",
    "b[:] = [int(i) for i in b]\n",
    "\n",
    "print(numpy.bincount(b))"
   ]
  },
  {
   "cell_type": "code",
   "execution_count": 1,
   "metadata": {},
   "outputs": [
    {
     "name": "stdout",
     "output_type": "stream",
     "text": [
      "2 3\n"
     ]
    }
   ],
   "source": [
    "import numpy as np\n",
    "a = int(input())\n",
    "b = input().split()\n",
    "b[:] = [int(i) for i in b]\n",
    "array = np.array(sorted(b))\n",
    "vals,counts = np.unique(array, return_counts=True)\n",
    "counts = list(counts)\n",
    "value = max(counts)\n",
    "count = set(counts)\n",
    "vals = list(vals)\n",
    "if len(count) == 1:\n",
    "    print(-1)\n",
    "else:\n",
    "    lst1 = []\n",
    "    lst2 = []\n",
    "    for m in range(len(counts)):\n",
    "        if counts[m] == value:\n",
    "            lst1.append(m)\n",
    "    for n in lst1:\n",
    "        lst2.append(vals[n])\n",
    "    lst = sorted(lst2)\n",
    "    lst[:] = [str(j) for j in lst]\n",
    "    s = ' '.join(lst)\n",
    "    print(s.rstrip())"
   ]
  },
  {
   "cell_type": "code",
   "execution_count": 32,
   "metadata": {},
   "outputs": [
    {
     "data": {
      "text/plain": [
       "0.6000000000000001"
      ]
     },
     "execution_count": 32,
     "metadata": {},
     "output_type": "execute_result"
    }
   ],
   "source": []
  },
  {
   "cell_type": "markdown",
   "metadata": {},
   "source": [
    "Double"
   ]
  },
  {
   "cell_type": "code",
   "execution_count": 97,
   "metadata": {},
   "outputs": [
    {
     "name": "stdout",
     "output_type": "stream",
     "text": [
      "246915\n"
     ]
    }
   ],
   "source": [
    "a = int(input())\n",
    "b = a%10\n",
    "c = int(a/10)\n",
    "c = c*2\n",
    "b = b*2\n",
    "d = b%7\n",
    "b = int(b/7)\n",
    "e = c*10 + b*10 + d\n",
    "print(e)"
   ]
  },
  {
   "cell_type": "code",
   "execution_count": 2,
   "metadata": {},
   "outputs": [
    {
     "ename": "IndexError",
     "evalue": "list index out of range",
     "output_type": "error",
     "traceback": [
      "\u001b[1;31m---------------------------------------------------------------------------\u001b[0m",
      "\u001b[1;31mIndexError\u001b[0m                                Traceback (most recent call last)",
      "\u001b[1;32m~\\AppData\\Local\\Temp\\ipykernel_37904\\2916110412.py\u001b[0m in \u001b[0;36m<module>\u001b[1;34m\u001b[0m\n\u001b[0;32m     15\u001b[0m \u001b[0mjinwei\u001b[0m\u001b[1;33m(\u001b[0m\u001b[0mlist1\u001b[0m\u001b[1;33m)\u001b[0m\u001b[1;33m\u001b[0m\u001b[1;33m\u001b[0m\u001b[0m\n\u001b[0;32m     16\u001b[0m \u001b[0mlist1\u001b[0m \u001b[1;33m=\u001b[0m \u001b[0mlist1\u001b[0m\u001b[1;33m[\u001b[0m\u001b[1;33m:\u001b[0m\u001b[1;33m:\u001b[0m\u001b[1;33m-\u001b[0m\u001b[1;36m1\u001b[0m\u001b[1;33m]\u001b[0m\u001b[1;33m\u001b[0m\u001b[1;33m\u001b[0m\u001b[0m\n\u001b[1;32m---> 17\u001b[1;33m \u001b[0mnum\u001b[0m \u001b[1;33m=\u001b[0m \u001b[0mint\u001b[0m\u001b[1;33m(\u001b[0m\u001b[1;33m(\u001b[0m\u001b[0mlist1\u001b[0m\u001b[1;33m[\u001b[0m\u001b[1;36m0\u001b[0m\u001b[1;33m]\u001b[0m \u001b[1;33m+\u001b[0m \u001b[0mint\u001b[0m\u001b[1;33m(\u001b[0m\u001b[0mlist1\u001b[0m\u001b[1;33m[\u001b[0m\u001b[1;36m1\u001b[0m\u001b[1;33m]\u001b[0m\u001b[1;33m/\u001b[0m\u001b[1;36m7\u001b[0m\u001b[1;33m)\u001b[0m\u001b[1;33m)\u001b[0m\u001b[1;33m/\u001b[0m\u001b[1;36m7\u001b[0m\u001b[1;33m)\u001b[0m\u001b[1;33m\u001b[0m\u001b[1;33m\u001b[0m\u001b[0m\n\u001b[0m\u001b[0;32m     18\u001b[0m \u001b[0mlist1\u001b[0m\u001b[1;33m[\u001b[0m\u001b[1;33m-\u001b[0m\u001b[1;36m1\u001b[0m\u001b[1;33m]\u001b[0m \u001b[1;33m=\u001b[0m \u001b[0mlist1\u001b[0m\u001b[1;33m[\u001b[0m\u001b[1;33m-\u001b[0m\u001b[1;36m1\u001b[0m\u001b[1;33m]\u001b[0m\u001b[1;33m%\u001b[0m\u001b[1;36m7\u001b[0m\u001b[1;33m\u001b[0m\u001b[1;33m\u001b[0m\u001b[0m\n\u001b[0;32m     19\u001b[0m \u001b[1;32mif\u001b[0m \u001b[0mnum\u001b[0m \u001b[1;33m!=\u001b[0m \u001b[1;36m0\u001b[0m\u001b[1;33m:\u001b[0m\u001b[1;33m\u001b[0m\u001b[1;33m\u001b[0m\u001b[0m\n",
      "\u001b[1;31mIndexError\u001b[0m: list index out of range"
     ]
    }
   ],
   "source": [
    "a = input()\n",
    "list1 = []\n",
    "for i in a:\n",
    "    list1.append(i)\n",
    "list1[:] = [int(j)*2 for j in list1]\n",
    "list1 = list1[::-1]\n",
    "def jinwei(list1):\n",
    "    for m in range(len(list1)-1):\n",
    "        if list1[m] >= 7:\n",
    "            list1[m+1] = list1[m+1] + 1\n",
    "            list1[m] = list1[m] - 7\n",
    "            jinwei(list1)\n",
    "        else:\n",
    "            pass\n",
    "jinwei(list1)\n",
    "list1 = list1[::-1]\n",
    "num = int((list1[0] + int(list1[1]/7))/7)\n",
    "list1[-1] = list1[-1]%7\n",
    "if num != 0:\n",
    "    list1.insert(0,num)\n",
    "    list1[1] = list1[1]-7\n",
    "else:\n",
    "    pass\n",
    "print(list1)\n",
    "list1[:] = [str(n) for n in list1]\n",
    "print(''.join(list1))\n"
   ]
  },
  {
   "cell_type": "markdown",
   "metadata": {},
   "source": [
    "Matrix Transpose"
   ]
  },
  {
   "cell_type": "code",
   "execution_count": null,
   "metadata": {},
   "outputs": [],
   "source": []
  }
 ],
 "metadata": {
  "kernelspec": {
   "display_name": "Python 3.9.12 ('base')",
   "language": "python",
   "name": "python3"
  },
  "language_info": {
   "codemirror_mode": {
    "name": "ipython",
    "version": 3
   },
   "file_extension": ".py",
   "mimetype": "text/x-python",
   "name": "python",
   "nbconvert_exporter": "python",
   "pygments_lexer": "ipython3",
   "version": "3.9.12"
  },
  "orig_nbformat": 4,
  "vscode": {
   "interpreter": {
    "hash": "5179d32cf6ec497baf3f8a3ef987cc77c5d2dc691fdde20a56316522f61a7323"
   }
  }
 },
 "nbformat": 4,
 "nbformat_minor": 2
}
