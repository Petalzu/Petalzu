{
 "cells": [
  {
   "cell_type": "markdown",
   "metadata": {},
   "source": [
    "描述\n",
    "RankingRanking 是比赛中最激动人心的时刻啦！\n",
    "为了能够有机会去参加 ICPC 的现场赛，LovelyAnQi 报名参加了学校的程序设计选拔赛，经过了紧张激烈比拼，终于到了可以见分晓的时候了！\n",
    "请你帮助 LovelyAnQi 计算一下她取得了第几名。\n",
    "\n",
    "输入描述\n",
    "第一行，一个整数 n(1≤n≤100)，表示参加比赛的有多少人；\n",
    "第二行， n个整数 a1,  a2,  a3, ......, an (0≤ai≤100,i=1,2,⋯,n)，表示每个参加比赛的同学的成绩，LovelyAnQi 的成绩是第一个\n",
    "\n",
    "输出描述\n",
    "一行，一个整数加上序数后缀，表示 LovelyAnQi 的名次，LovelyAnQi 的名次被定义为成绩高于她的人数 +1；\n",
    "对于个位数是 1 的名次，后缀加 st；个位数是 2 的名次，后缀加 nd；个位数是 33 的名次，后缀加 rd；其他情况，后缀加 th"
   ]
  },
  {
   "cell_type": "code",
   "execution_count": 84,
   "metadata": {},
   "outputs": [
    {
     "name": "stdout",
     "output_type": "stream",
     "text": [
      "35\n"
     ]
    }
   ],
   "source": [
    "num1 = input()\n",
    "que_list = []\n",
    "father_list = []\n",
    "\n",
    "def begin(num1):\n",
    "    i = str(num1)\n",
    "    for i in range(int(num1)):\n",
    "        questionnum = input()\n",
    "        que_list.append(int(questionnum))\n",
    "        string = input()\n",
    "        temp_list1 = []\n",
    "        temp_list2 = []\n",
    "        temp_list1 = string.split()\n",
    "        \"\".join(temp_list1)\n",
    "        for j in temp_list1:\n",
    "            j = int(j)\n",
    "            temp_list2.append(j)\n",
    "        father_list.append(temp_list2)\n",
    "begin(num1)\n",
    "change_list = []\n",
    "\n",
    "def change(lists):\n",
    "    i = 1\n",
    "    j = que_list[father_list.index(lists)]\n",
    "    while i <= j:\n",
    "        lists.append(lists[0])\n",
    "        del lists[0]\n",
    "        change_list.append(lists)\n",
    "        change_list.append(lists[::-1])\n",
    "        i = i+1\n",
    "\n",
    "def time(lists):\n",
    "    m = 0\n",
    "    list3 = [lists[0]]\n",
    "    while m in range(len(lists)-1):\n",
    "        sum1 = lists[m] + lists[m+1]\n",
    "        list3.append(sum1)\n",
    "        lists[m+1] = sum1\n",
    "        m = m+1\n",
    "    return sum(list3)\n",
    "\n",
    "\n",
    "def cop(lists):\n",
    "    change(lists)\n",
    "    times = []\n",
    "    for i in change_list:\n",
    "        if len(i) == len(lists):\n",
    "            times.append(time(i))\n",
    "    mintime = min(times)\n",
    "    print(mintime)\n",
    "\n",
    "for j in father_list:\n",
    "    cop(j)\n"
   ]
  },
  {
   "cell_type": "code",
   "execution_count": 81,
   "metadata": {},
   "outputs": [
    {
     "name": "stdout",
     "output_type": "stream",
     "text": [
      "applebananan\n",
      "cake\n",
      "dumpling\n",
      "\n"
     ]
    },
    {
     "data": {
      "text/plain": [
       "[None, None, None, None]"
      ]
     },
     "execution_count": 81,
     "metadata": {},
     "output_type": "execute_result"
    }
   ],
   "source": [
    "import time\n",
    "from multiprocessing.dummy import Pool as ThreadPool\n",
    "def process(item):\n",
    "    print(item)\n",
    "items = ['apple', 'bananan', 'cake', 'dumpling']\n",
    "pool = ThreadPool()\n",
    "pool.map(process, items)\n",
    "pool.close()\n",
    "pool.join()"
   ]
  }
 ],
 "metadata": {
  "interpreter": {
   "hash": "5179d32cf6ec497baf3f8a3ef987cc77c5d2dc691fdde20a56316522f61a7323"
  },
  "kernelspec": {
   "display_name": "Python 3.9.7 ('base')",
   "language": "python",
   "name": "python3"
  },
  "language_info": {
   "codemirror_mode": {
    "name": "ipython",
    "version": 3
   },
   "file_extension": ".py",
   "mimetype": "text/x-python",
   "name": "python",
   "nbconvert_exporter": "python",
   "pygments_lexer": "ipython3",
   "version": "3.9.7"
  },
  "orig_nbformat": 4
 },
 "nbformat": 4,
 "nbformat_minor": 2
}
