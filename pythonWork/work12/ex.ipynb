{
 "cells": [
  {
   "cell_type": "code",
   "execution_count": 1,
   "metadata": {},
   "outputs": [
    {
     "data": {
      "text/plain": [
       "'abcd'"
      ]
     },
     "execution_count": 1,
     "metadata": {},
     "output_type": "execute_result"
    }
   ],
   "source": [
    "a = u'abcd'\n",
    "a"
   ]
  },
  {
   "cell_type": "code",
   "execution_count": 11,
   "metadata": {},
   "outputs": [
    {
     "data": {
      "text/plain": [
       "'efgh'"
      ]
     },
     "execution_count": 11,
     "metadata": {},
     "output_type": "execute_result"
    }
   ],
   "source": [
    "b = str('efgh')\n",
    "#b = unicode('efgh')#\n",
    "b\n",
    "#Python2 的unicode 函数在 Python3 中被命名为 str。在 Python3 中使用 ·str 来代替 Python2 中的 unicode#\n",
    "#这是什么古早教程？#"
   ]
  },
  {
   "cell_type": "code",
   "execution_count": 24,
   "metadata": {},
   "outputs": [
    {
     "name": "stdout",
     "output_type": "stream",
     "text": [
      "b'abcd'\n",
      "abcd\n",
      "b'abcd'\n",
      "abcd\n"
     ]
    }
   ],
   "source": [
    "import sys\n",
    "import types\n",
    "\n",
    "s = 'abcd'\n",
    "s = s.encode('utf-8')\n",
    "print(s)\n",
    "s = s.decode('utf-8')\n",
    "print(s)\n",
    "s = s.encode(sys.getdefaultencoding())\n",
    "print(s)\n",
    "# b = type(s) is types.UnicodeType\n",
    "# isinstance(s,UnicodeType)\n",
    "s = s.decode(sys.getdefaultencoding())\n",
    "print(s)\n",
    "# abcd'.decode('utf-8')\n",
    "\n",
    "# AttributeError: ‘str’ object has no attribute ‘decode’\n",
    "# 因为py3中str的类型本身不是bytes，所以不能解码\n",
    "# 强制转换忽略错误：bytes.decode(‘’utf-8‘’, ‘’ignore‘’)\n",
    "# 编码就是encode，解码decode"
   ]
  },
  {
   "cell_type": "code",
   "execution_count": null,
   "metadata": {},
   "outputs": [],
   "source": []
  }
 ],
 "metadata": {
  "interpreter": {
   "hash": "5179d32cf6ec497baf3f8a3ef987cc77c5d2dc691fdde20a56316522f61a7323"
  },
  "kernelspec": {
   "display_name": "Python 3.9.7 ('base')",
   "language": "python",
   "name": "python3"
  },
  "language_info": {
   "codemirror_mode": {
    "name": "ipython",
    "version": 3
   },
   "file_extension": ".py",
   "mimetype": "text/x-python",
   "name": "python",
   "nbconvert_exporter": "python",
   "pygments_lexer": "ipython3",
   "version": "3.9.13"
  },
  "orig_nbformat": 4
 },
 "nbformat": 4,
 "nbformat_minor": 2
}
