{
 "cells": [
  {
   "cell_type": "code",
   "execution_count": 7,
   "metadata": {},
   "outputs": [
    {
     "data": {
      "text/plain": [
       "'ab'"
      ]
     },
     "execution_count": 7,
     "metadata": {},
     "output_type": "execute_result"
    }
   ],
   "source": [
    "string1 = 'ab ca bc ab'\n",
    "def solution(string):\n",
    "    words = string.split()\n",
    "    for j in words:\n",
    "        for i in range(0,len(words)-1):\n",
    "            if words[i] == j:\n",
    "                return words[i]\n",
    "solution(string1)"
   ]
  },
  {
   "cell_type": "code",
   "execution_count": 19,
   "metadata": {},
   "outputs": [
    {
     "name": "stdout",
     "output_type": "stream",
     "text": [
      "[3, 4, 6, 2, 6, 7, 6, 9, 10, 7, 4, 4, 5, 3, 2, 0, 0, 0, 0, 0]\n"
     ]
    }
   ],
   "source": [
    "list1 = [3,4,0,6,2,0,6,7,6,0,9,10,7,4,4,5,3,0,0,2,1]\n",
    "def solution(lists):\n",
    "    list1 = []\n",
    "    list2 = []\n",
    "    for i in range(0,len(lists)-1):\n",
    "        if lists[i] != 0:\n",
    "            list1.append(lists[i])\n",
    "        else:\n",
    "            list2.append(lists[i])\n",
    "    print(list1+list2)\n",
    "solution(list1)\n",
    "\n",
    "def test(lst):\n",
    "    result = sorted(lst , key=lambda x: not x)"
   ]
  },
  {
   "cell_type": "code",
   "execution_count": 52,
   "metadata": {},
   "outputs": [
    {
     "name": "stdout",
     "output_type": "stream",
     "text": [
      "4 10\n"
     ]
    },
    {
     "data": {
      "text/plain": [
       "[4, 10]"
      ]
     },
     "execution_count": 52,
     "metadata": {},
     "output_type": "execute_result"
    }
   ],
   "source": [
    "import math \n",
    "def isPrime(n): \n",
    "    if n <= 1: \n",
    "        return False\n",
    "    for i in range(2, int(math.sqrt(n)) + 1): \n",
    "        if n % i == 0: \n",
    "            return False\n",
    "        return True\n",
    "list1 = [3,11,7,17,19,4]\n",
    "def solution(lists):\n",
    "    list1 = []\n",
    "    list2 = []\n",
    "    num1 = 0\n",
    "    for i in lists:\n",
    "        if isPrime(i) == True:\n",
    "            list1.append(i)\n",
    "    maxNum = str(max(list1))\n",
    "    for j in maxNum:\n",
    "        list2.append(int(j))\n",
    "        num1 = sum(list2)\n",
    "    num2 = lists.index(int(maxNum))\n",
    "    print(num2,num1)\n",
    "solution(list1)\n",
    "\n",
    "\n",
    "def is_prime(n):\n",
    "    return n>1 and all(n%j for j in range(2,int(n**0.5)+1))\n",
    "def test(nums):\n",
    "    n,i = max((n,i)for i,n in enumerate(nums)if is_prime(n))\n",
    "    return [i,sum(int(c)for c in str(n))]\n",
    "test(list1)"
   ]
  },
  {
   "cell_type": "code",
   "execution_count": 40,
   "metadata": {},
   "outputs": [
    {
     "data": {
      "text/plain": [
       "True"
      ]
     },
     "execution_count": 40,
     "metadata": {},
     "output_type": "execute_result"
    }
   ],
   "source": [
    "class circle():\n",
    "    def __init__(self,x,y,radius):\n",
    "        self.x=x\n",
    "        self.y=y\n",
    "        self.radius = radius\n",
    "\n",
    "circle1 = circle(1,1,2)\n",
    "circle2 = circle(2,2,2)\n",
    "\n",
    "def solution(circle1,circle2):\n",
    "    distance1 = ((circle2.x - circle1.x)**2 + (circle2.y - circle1.y)**2)**(1/2)\n",
    "    disrance2 = circle1.radius + circle2.radius\n",
    "    if distance1 < disrance2:\n",
    "        return True\n",
    "    else:\n",
    "        return False\n",
    "solution(circle1,circle2)"
   ]
  },
  {
   "cell_type": "code",
   "execution_count": 48,
   "metadata": {},
   "outputs": [
    {
     "name": "stdout",
     "output_type": "stream",
     "text": [
      "2\n"
     ]
    },
    {
     "data": {
      "text/plain": [
       "(None, 3)"
      ]
     },
     "execution_count": 48,
     "metadata": {},
     "output_type": "execute_result"
    }
   ],
   "source": [
    "print(len(list(filter(lambda x: x%2==0,[1,2,3,4,5])))),len(list(filter(lambda x: x%2!=0,[1,2,3,4,5])))"
   ]
  }
 ],
 "metadata": {
  "interpreter": {
   "hash": "5179d32cf6ec497baf3f8a3ef987cc77c5d2dc691fdde20a56316522f61a7323"
  },
  "kernelspec": {
   "display_name": "Python 3.9.7 ('base')",
   "language": "python",
   "name": "python3"
  },
  "language_info": {
   "codemirror_mode": {
    "name": "ipython",
    "version": 3
   },
   "file_extension": ".py",
   "mimetype": "text/x-python",
   "name": "python",
   "nbconvert_exporter": "python",
   "pygments_lexer": "ipython3",
   "version": "3.9.12"
  },
  "orig_nbformat": 4
 },
 "nbformat": 4,
 "nbformat_minor": 2
}
