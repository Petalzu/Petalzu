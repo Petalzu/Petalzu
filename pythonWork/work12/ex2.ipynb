{
 "cells": [
  {
   "cell_type": "code",
   "execution_count": 4,
   "metadata": {},
   "outputs": [
    {
     "name": "stdout",
     "output_type": "stream",
     "text": [
      "9\n"
     ]
    }
   ],
   "source": [
    "import datetime\n",
    "dt1 = datetime.datetime(2014,7,2)\n",
    "dt2 = datetime.datetime(2014,7,11)\n",
    "interval = dt2 - dt1\n",
    "print(interval.days)"
   ]
  },
  {
   "cell_type": "code",
   "execution_count": 14,
   "metadata": {},
   "outputs": [
    {
     "name": "stdout",
     "output_type": "stream",
     "text": [
      "1110\n",
      "1221\n",
      "palindrome\n"
     ]
    }
   ],
   "source": [
    "num1 = 456\n",
    "def exercise_2(num1):\n",
    "    while True:\n",
    "        num2 = num1 + int(str(num1)[::-1])\n",
    "        print(num2)\n",
    "        if str(num2) == str(num2)[::-1]:\n",
    "            print(\"palindrome\")\n",
    "            break\n",
    "        else:\n",
    "            num1 = num2\n",
    "            continue\n",
    "exercise_2(num1)"
   ]
  },
  {
   "cell_type": "code",
   "execution_count": 18,
   "metadata": {},
   "outputs": [
    {
     "name": "stdout",
     "output_type": "stream",
     "text": [
      "86399 seconds correspond to  0 day 23 hours 59 minutes 59 seconds\n"
     ]
    }
   ],
   "source": [
    "second = input(\"please enter rhe number of seconds:\")\n",
    "def exercise_3(second):\n",
    "    second = int(second)\n",
    "    num1 = second % 86400\n",
    "    day = int((second - num1)/86400)\n",
    "    num2 = num1 % 3600\n",
    "    hour = int((num1 - num2)/3600)\n",
    "    num3 = num2 % 60\n",
    "    minutes = int((num2 - num3)/60)\n",
    "    seconds = int(num3)\n",
    "    print(second,\"seconds correspond to \",day,\"day\",hour,\"hours\",minutes,\"minutes\",seconds,\"seconds\")\n",
    "exercise_3(second)"
   ]
  },
  {
   "cell_type": "code",
   "execution_count": 41,
   "metadata": {},
   "outputs": [
    {
     "name": "stdout",
     "output_type": "stream",
     "text": [
      "       a    b    c    d  sum\n",
      "1     25   69   51   26  171\n",
      "2     68   35   29   54  186\n",
      "3     54   57   45   63  219\n",
      "4     61   68   47   59  235\n",
      "sum  208  229  172  202  811\n"
     ]
    }
   ],
   "source": [
    "import numpy as np\n",
    "import pandas as pd\n",
    "\n",
    "a=[25,69,51,26]\n",
    "b=[68,35,29,54]\n",
    "c=[54,57,45,63]\n",
    "d=[61,68,47,59]\n",
    "df = pd.DataFrame(data=[a,b,c,d],\n",
    "            columns = ['a','b','c','d'],\n",
    "            index=[1,2,3,4])\n",
    "df.loc['sum']=df.apply(lambda x:x.sum()) #列求和添加新行'sum'\n",
    "df['sum']=df.apply(lambda x:x.sum() ,axis=1) #行求和添加新列'sum'\n",
    "#lambda 定义匿名函数 语法：lambda [arg1 [,arg2,.....argn]]:expression\n",
    "#该解答改编自 pythonProject/AI/ai3.py(part7)\n",
    "print(df)"
   ]
  },
  {
   "cell_type": "code",
   "execution_count": 86,
   "metadata": {},
   "outputs": [
    {
     "data": {
      "text/plain": [
       "True"
      ]
     },
     "execution_count": 86,
     "metadata": {},
     "output_type": "execute_result"
    }
   ],
   "source": [
    "list1 = [1,5,11,5]\n",
    "k = 16\n",
    "list2 = []\n",
    "def exercise_5(lists,k):\n",
    "    for i in range(len(lists)-1):\n",
    "        for j in range(i+1,len(lists)):\n",
    "            list2.append(lists[i]+lists[j])\n",
    "    if k in list2:\n",
    "        return True\n",
    "    else:\n",
    "        return False\n",
    "\n",
    "exercise_5(list1,k)\n",
    "\n",
    "#another solution in work9/ex5.py"
   ]
  },
  {
   "cell_type": "code",
   "execution_count": 92,
   "metadata": {},
   "outputs": [
    {
     "name": "stdout",
     "output_type": "stream",
     "text": [
      "abc\n"
     ]
    }
   ],
   "source": [
    "str1 = \"abcdefgh\"\n",
    "str2 = \"abcefgh\"\n",
    "def exercise_6(a,b):\n",
    "    c = []\n",
    "    for i in range(len(a)):\n",
    "        for j in range(len(a)):\n",
    "            if j+i <= len(a):\n",
    "                if a[0:j+i+1] in b:\n",
    "                    c.append(a[0:j+i+1])#0改j就可以查找最长的同字符\n",
    "    if c == []:\n",
    "        return False\n",
    "    else:\n",
    "        print(c[-1])\n",
    "exercise_6(str1,str2)"
   ]
  },
  {
   "cell_type": "code",
   "execution_count": 104,
   "metadata": {},
   "outputs": [
    {
     "data": {
      "text/plain": [
       "12"
      ]
     },
     "execution_count": 104,
     "metadata": {},
     "output_type": "execute_result"
    }
   ],
   "source": [
    "a=10\n",
    "b=2\n",
    "def exercise_7(a,b):\n",
    "    if a == -b:\n",
    "        return 0\n",
    "    else:\n",
    "        while b:\n",
    "            a, b = a ^ b, (a & b) << 1\n",
    "        return a\n",
    "#位运算\n",
    "exercise_7(a,b)"
   ]
  }
 ],
 "metadata": {
  "interpreter": {
   "hash": "5179d32cf6ec497baf3f8a3ef987cc77c5d2dc691fdde20a56316522f61a7323"
  },
  "kernelspec": {
   "display_name": "Python 3.9.7 ('base')",
   "language": "python",
   "name": "python3"
  },
  "language_info": {
   "codemirror_mode": {
    "name": "ipython",
    "version": 3
   },
   "file_extension": ".py",
   "mimetype": "text/x-python",
   "name": "python",
   "nbconvert_exporter": "python",
   "pygments_lexer": "ipython3",
   "version": "3.9.12"
  },
  "orig_nbformat": 4
 },
 "nbformat": 4,
 "nbformat_minor": 2
}
