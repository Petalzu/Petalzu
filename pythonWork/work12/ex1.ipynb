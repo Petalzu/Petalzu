{
 "cells": [
  {
   "cell_type": "code",
   "execution_count": 8,
   "metadata": {},
   "outputs": [
    {
     "name": "stdout",
     "output_type": "stream",
     "text": [
      "6\n",
      "0\n"
     ]
    }
   ],
   "source": [
    "num1 = [1,2,3]\n",
    "num2 = [2,1,2]\n",
    "def exercise_1(lists):\n",
    "    num3 = len(lists)\n",
    "    lists = set(lists)\n",
    "    if len(lists) < num3:\n",
    "        print(0)\n",
    "    else:\n",
    "        print(sum(lists))\n",
    "exercise_1(num1)\n",
    "exercise_1(num2)"
   ]
  },
  {
   "cell_type": "code",
   "execution_count": 13,
   "metadata": {},
   "outputs": [
    {
     "name": "stdout",
     "output_type": "stream",
     "text": [
      "615\n"
     ]
    }
   ],
   "source": [
    "num = input('Please enter a number: ')\n",
    "def exercise_2(num):\n",
    "    try:\n",
    "        num = int(num)\n",
    "        print(num*3 + num*20 + num*100)\n",
    "    except:\n",
    "        print('not a number!')"
   ]
  },
  {
   "cell_type": "code",
   "execution_count": 14,
   "metadata": {},
   "outputs": [
    {
     "name": "stdout",
     "output_type": "stream",
     "text": [
      "     April 2018\n",
      "Mo Tu We Th Fr Sa Su\n",
      "                   1\n",
      " 2  3  4  5  6  7  8\n",
      " 9 10 11 12 13 14 15\n",
      "16 17 18 19 20 21 22\n",
      "23 24 25 26 27 28 29\n",
      "30\n",
      "\n"
     ]
    }
   ],
   "source": [
    "# 引入日历模块\n",
    "import calendar\n",
    "# 输入指定年月\n",
    "yy = int(input(\"输入年份: \"))\n",
    "mm = int(input(\"输入月份: \"))\n",
    "# 显示日历\n",
    "print(calendar.month(yy,mm))"
   ]
  },
  {
   "cell_type": "code",
   "execution_count": 11,
   "metadata": {},
   "outputs": [
    {
     "data": {
      "text/plain": [
       "False"
      ]
     },
     "execution_count": 11,
     "metadata": {},
     "output_type": "execute_result"
    }
   ],
   "source": [
    "num4 = [2,4,5,7,9]\n",
    "num5 = [2,4,5,5,7,9]\n",
    "def exercise_4(lists):\n",
    "    num6 = len(lists)\n",
    "    lists = set(lists)\n",
    "    if len(lists) < num6:\n",
    "        return False\n",
    "    else:\n",
    "        return True\n",
    "exercise_4(num4)\n",
    "exercise_4(num5)"
   ]
  },
  {
   "cell_type": "code",
   "execution_count": 25,
   "metadata": {},
   "outputs": [
    {
     "name": "stdout",
     "output_type": "stream",
     "text": [
      "30\n",
      "60\n",
      "90\n",
      "40\n",
      "80\n",
      "50\n",
      "20\n",
      "70\n",
      "10\n"
     ]
    },
    {
     "data": {
      "text/plain": [
       "[30, 60, 90, 40, 80, 50, 20, 70, 10]"
      ]
     },
     "execution_count": 25,
     "metadata": {},
     "output_type": "execute_result"
    }
   ],
   "source": [
    "list1 = [10,20,30,40,50,60,70,80,90]\n",
    "def exercise_5(lists):\n",
    "    list2 = []\n",
    "    while True:\n",
    "        lists = lists\n",
    "        if len(lists) > 3:\n",
    "            for i in range(2,len(lists)-1,2):\n",
    "                print(lists[i])\n",
    "                list2.append(lists[i])\n",
    "                del lists[i]\n",
    "        elif len(lists) == 3:\n",
    "            print(lists[1])\n",
    "            list2.append(lists[1])\n",
    "            del lists[1]\n",
    "        elif len(lists) < 3:\n",
    "            print(lists[-1])\n",
    "            print(lists[-2])\n",
    "            list2.append(lists[-1])\n",
    "            list2.append(lists[-2])\n",
    "            del lists[-1]\n",
    "            return list2\n",
    "exercise_5(list1)"
   ]
  }
 ],
 "metadata": {
  "interpreter": {
   "hash": "5179d32cf6ec497baf3f8a3ef987cc77c5d2dc691fdde20a56316522f61a7323"
  },
  "kernelspec": {
   "display_name": "Python 3.9.7 ('base')",
   "language": "python",
   "name": "python3"
  },
  "language_info": {
   "codemirror_mode": {
    "name": "ipython",
    "version": 3
   },
   "file_extension": ".py",
   "mimetype": "text/x-python",
   "name": "python",
   "nbconvert_exporter": "python",
   "pygments_lexer": "ipython3",
   "version": "3.9.12"
  },
  "orig_nbformat": 4
 },
 "nbformat": 4,
 "nbformat_minor": 2
}
