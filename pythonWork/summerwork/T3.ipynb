{
 "cells": [
  {
   "cell_type": "code",
   "execution_count": 1,
   "metadata": {},
   "outputs": [
    {
     "name": "stdout",
     "output_type": "stream",
     "text": [
      "[70.5, 71.0, 71.5, 72.0, 72.5, 73.0, 73.5, 74.0, 74.5, 75.0]\n",
      "[11.6325, 11.715, 11.797500000000001, 11.88, 11.9625, 12.045, 12.127500000000001, 12.21, 12.2925, 12.375]\n"
     ]
    }
   ],
   "source": [
    "a = 70\n",
    "list1=[]\n",
    "list2=[]\n",
    "def increase(a):\n",
    "    i = 0\n",
    "    while i < 10:\n",
    "        a = a+0.5\n",
    "        list1.append(a)\n",
    "        list2.append(a*0.165)\n",
    "        i = i+1\n",
    "    print(list1)\n",
    "    print(list2)\n",
    "\n",
    "increase(a)\n"
   ]
  },
  {
   "cell_type": "code",
   "execution_count": 3,
   "metadata": {},
   "outputs": [
    {
     "name": "stdout",
     "output_type": "stream",
     "text": [
      "4.722090542530763\n"
     ]
    }
   ],
   "source": [
    "a = 1\n",
    "def improve(a):\n",
    "    b = int(365/7)\n",
    "    a = a*(1.01**(3*b))\n",
    "    print(a)\n",
    "improve(a)"
   ]
  },
  {
   "cell_type": "code",
   "execution_count": 4,
   "metadata": {},
   "outputs": [
    {
     "name": "stdout",
     "output_type": "stream",
     "text": [
      "是回文数\n"
     ]
    }
   ],
   "source": [
    "n = input()\n",
    "if n == n[::-1]:\n",
    "    print(\"是回文数\")\n",
    "else:\n",
    "    print(\"不是回文数\")"
   ]
  },
  {
   "cell_type": "code",
   "execution_count": 6,
   "metadata": {},
   "outputs": [
    {
     "name": "stdout",
     "output_type": "stream",
     "text": [
      "+----+----+\n",
      "|    |    |\n",
      "|    |    |\n",
      "|    |    |\n",
      "|    |    |\n",
      "+----+----+\n",
      "|    |    |\n",
      "|    |    |\n",
      "|    |    |\n",
      "|    |    |\n",
      "+----+----+\n"
     ]
    }
   ],
   "source": [
    "print(('+----'*2+'+\\n'+('|    '*2+'|\\n')*4)*2+'+----'*2+'+')"
   ]
  },
  {
   "cell_type": "code",
   "execution_count": 7,
   "metadata": {},
   "outputs": [
    {
     "name": "stdout",
     "output_type": "stream",
     "text": [
      "Starting\n",
      ".\n",
      ".\n",
      ".\n",
      ".\n",
      ".\n",
      "done\n"
     ]
    }
   ],
   "source": [
    "import time\n",
    "print('Starting')\n",
    "i = 0\n",
    "while i < 5:\n",
    "    time.sleep(0.5)\n",
    "    print('.')\n",
    "    i = i+1\n",
    "print('done')"
   ]
  },
  {
   "cell_type": "code",
   "execution_count": 8,
   "metadata": {},
   "outputs": [
    {
     "name": "stderr",
     "output_type": "stream",
     "text": [
      "100%|██████████| 99/99 [00:20<00:00,  4.90it/s]\n"
     ]
    }
   ],
   "source": [
    "from tqdm import tqdm\n",
    "import time\n",
    "\n",
    "for i in tqdm(range(1,100)):\n",
    "    time.sleep(0.2)"
   ]
  },
  {
   "cell_type": "code",
   "execution_count": 9,
   "metadata": {},
   "outputs": [
    {
     "name": "stdout",
     "output_type": "stream",
     "text": [
      "+----+----+----+----+----+\n",
      "|    |    |    |    |    |\n",
      "|    |    |    |    |    |\n",
      "+----+----+----+----+----+\n",
      "|    |    |    |    |    |\n",
      "|    |    |    |    |    |\n",
      "+----+----+----+----+----+\n",
      "|    |    |    |    |    |\n",
      "|    |    |    |    |    |\n",
      "+----+----+----+----+----+\n",
      "|    |    |    |    |    |\n",
      "|    |    |    |    |    |\n",
      "+----+----+----+----+----+\n",
      "|    |    |    |    |    |\n",
      "|    |    |    |    |    |\n",
      "+----+----+----+----+----+\n"
     ]
    }
   ],
   "source": [
    "print(('+----'*5+'+\\n'+('|    '*5+'|\\n')*2)*5+'+----'*5+'+')"
   ]
  },
  {
   "cell_type": "code",
   "execution_count": 19,
   "metadata": {},
   "outputs": [
    {
     "name": "stdout",
     "output_type": "stream",
     "text": [
      "0b110000101\n",
      "0o605\n",
      "389\n",
      "0x185\n",
      "ƅ\n"
     ]
    }
   ],
   "source": [
    "print(bin(389))\n",
    "print(oct(389))\n",
    "print(int(389))\n",
    "print(hex(389))\n",
    "print(chr(389))"
   ]
  }
 ],
 "metadata": {
  "kernelspec": {
   "display_name": "Python 3.9.12 ('base')",
   "language": "python",
   "name": "python3"
  },
  "language_info": {
   "codemirror_mode": {
    "name": "ipython",
    "version": 3
   },
   "file_extension": ".py",
   "mimetype": "text/x-python",
   "name": "python",
   "nbconvert_exporter": "python",
   "pygments_lexer": "ipython3",
   "version": "3.9.12"
  },
  "orig_nbformat": 4,
  "vscode": {
   "interpreter": {
    "hash": "5179d32cf6ec497baf3f8a3ef987cc77c5d2dc691fdde20a56316522f61a7323"
   }
  }
 },
 "nbformat": 4,
 "nbformat_minor": 2
}
