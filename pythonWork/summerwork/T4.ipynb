{
 "cells": [
  {
   "cell_type": "code",
   "execution_count": 5,
   "metadata": {},
   "outputs": [
    {
     "name": "stdout",
     "output_type": "stream",
     "text": [
      "遗憾，太小了\n",
      "遗憾，太小了\n",
      "遗憾，太大了\n",
      "遗憾，太大了\n",
      "请输入数字！\n",
      "预测5次，你猜中了！\n"
     ]
    }
   ],
   "source": [
    "a = 5\n",
    "\n",
    "def solution(a):\n",
    "    i=1\n",
    "    while True:\n",
    "        b = input()\n",
    "        try:\n",
    "            b = int(b)\n",
    "        except:\n",
    "            print(\"请输入数字！\")\n",
    "            continue\n",
    "        if a < b:\n",
    "            print(\"遗憾，太大了\")\n",
    "            i=i+1\n",
    "            continue\n",
    "        elif a > b:\n",
    "            print(\"遗憾，太小了\")\n",
    "            i=i+1\n",
    "            continue\n",
    "        elif a == b:\n",
    "            return print(\"预测{}次，你猜中了！\".format(i))\n",
    "solution(a)"
   ]
  },
  {
   "cell_type": "code",
   "execution_count": 8,
   "metadata": {},
   "outputs": [
    {
     "name": "stdout",
     "output_type": "stream",
     "text": [
      "7 8 3 0\n"
     ]
    }
   ],
   "source": [
    "def counts(n):\n",
    "    a,b,c,d=0,0,0,0\n",
    "    for k in n:\n",
    "        if k.isalpha():\n",
    "            a=a+1\n",
    "        elif k.isdigit():\n",
    "            b=b+1\n",
    "        elif k==\" \":\n",
    "            c=c+1\n",
    "        else:\n",
    "            d=d+1\n",
    "    return print(a,b,c,d)\n",
    "n=input(\"请输入一串字符: \")\n",
    "counts(n)"
   ]
  },
  {
   "cell_type": "code",
   "execution_count": 10,
   "metadata": {},
   "outputs": [
    {
     "name": "stdout",
     "output_type": "stream",
     "text": [
      "12\n"
     ]
    }
   ],
   "source": [
    "a = input().split()\n",
    "a[:] = [int(i) for i in a]\n",
    "p = a[0]\n",
    "q = a[1]\n",
    "def gcd(p,q):\n",
    "    while p != q:\n",
    "        if p > q:\n",
    "            p = p - q\n",
    "        else:\n",
    "            q = q - p\n",
    "    return q\n",
    "print(gcd(p,q))\n",
    "\n",
    "#输入用空格隔开的两个整数"
   ]
  },
  {
   "cell_type": "code",
   "execution_count": 3,
   "metadata": {},
   "outputs": [
    {
     "name": "stdout",
     "output_type": "stream",
     "text": [
      "OJlPVhdwvy\n"
     ]
    }
   ],
   "source": [
    "import random\n",
    "list1 = [1,2,3,4,5,6,7,8,9]\n",
    "STRING = 'ABCDEFGHIJKLMNOPQRSTUVWXYZabcdefghijklmnopqrstuvwxyz'\n",
    "for i in STRING:\n",
    "    list1.append(i)\n",
    "slice = random.sample(list1, 10)\n",
    "print(''.join(slice))"
   ]
  },
  {
   "cell_type": "code",
   "execution_count": 11,
   "metadata": {},
   "outputs": [
    {
     "name": "stdout",
     "output_type": "stream",
     "text": [
      "True\n",
      "True\n"
     ]
    }
   ],
   "source": [
    "def juc(lists):\n",
    "    for i in range(len(lists)):\n",
    "        for j in range(i+1,len(lists)):\n",
    "            if lists[i] == lists[j]:\n",
    "                return print(True)\n",
    "            else:\n",
    "                pass\n",
    "\n",
    "list1 = [1,2,3,4,5,6,1]\n",
    "list2 = [1,1,2,3,4,5]\n",
    "list3 = [1,2,3,4,5,6]\n",
    "juc(list1)\n",
    "juc(list2)\n",
    "juc(list3)"
   ]
  }
 ],
 "metadata": {
  "kernelspec": {
   "display_name": "Python 3.9.12 ('base')",
   "language": "python",
   "name": "python3"
  },
  "language_info": {
   "codemirror_mode": {
    "name": "ipython",
    "version": 3
   },
   "file_extension": ".py",
   "mimetype": "text/x-python",
   "name": "python",
   "nbconvert_exporter": "python",
   "pygments_lexer": "ipython3",
   "version": "3.9.12"
  },
  "orig_nbformat": 4,
  "vscode": {
   "interpreter": {
    "hash": "5179d32cf6ec497baf3f8a3ef987cc77c5d2dc691fdde20a56316522f61a7323"
   }
  }
 },
 "nbformat": 4,
 "nbformat_minor": 2
}
