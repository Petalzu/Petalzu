{
 "cells": [
  {
   "cell_type": "code",
   "execution_count": 1,
   "metadata": {},
   "outputs": [
    {
     "name": "stdout",
     "output_type": "stream",
     "text": [
      "hello world\n"
     ]
    }
   ],
   "source": [
    "print(\"hello world\")\n",
    "\n",
    "#2,3略"
   ]
  },
  {
   "cell_type": "code",
   "execution_count": 2,
   "metadata": {},
   "outputs": [
    {
     "name": "stdout",
     "output_type": "stream",
     "text": [
      "helloworld\n"
     ]
    }
   ],
   "source": [
    "string1 = input()\n",
    "string2 = input()\n",
    "print(\"{}{}\".format(string1,string2))"
   ]
  },
  {
   "cell_type": "code",
   "execution_count": 11,
   "metadata": {},
   "outputs": [
    {
     "name": "stdout",
     "output_type": "stream",
     "text": [
      "55\n"
     ]
    }
   ],
   "source": [
    "a = int(input())\n",
    "\n",
    "def solution(a):\n",
    "    b = a\n",
    "    i = 0\n",
    "    while i < a:\n",
    "        b = b+i\n",
    "        i = i+1\n",
    "    print(b)\n",
    "\n",
    "solution(a)"
   ]
  },
  {
   "cell_type": "code",
   "execution_count": 12,
   "metadata": {},
   "outputs": [
    {
     "name": "stdout",
     "output_type": "stream",
     "text": [
      "1*1=1  \n",
      "\n",
      "2*1=2  2*2=4  \n",
      "\n",
      "3*1=3  3*2=6  3*3=9  \n",
      "\n",
      "4*1=4  4*2=8  4*3=12  4*4=16  \n",
      "\n",
      "5*1=5  5*2=10  5*3=15  5*4=20  5*5=25  \n",
      "\n",
      "6*1=6  6*2=12  6*3=18  6*4=24  6*5=30  6*6=36  \n",
      "\n",
      "7*1=7  7*2=14  7*3=21  7*4=28  7*5=35  7*6=42  7*7=49  \n",
      "\n",
      "8*1=8  8*2=16  8*3=24  8*4=32  8*5=40  8*6=48  8*7=56  8*8=64  \n",
      "\n",
      "9*1=9  9*2=18  9*3=27  9*4=36  9*5=45  9*6=54  9*7=63  9*8=72  9*9=81  "
     ]
    }
   ],
   "source": [
    "for  i in range(1,10):\n",
    "    for j in range(1,10):\n",
    "        if i>=j:\n",
    "            print(\"{}*{}={}\".format(i,j,i*j),end =\"  \")\n",
    "    if i<j:\n",
    "        print('\\n')"
   ]
  },
  {
   "cell_type": "code",
   "execution_count": 21,
   "metadata": {},
   "outputs": [
    {
     "name": "stdout",
     "output_type": "stream",
     "text": [
      "4037913\n"
     ]
    }
   ],
   "source": [
    "from math import factorial\n",
    "lists = []\n",
    "for i in range(1,11):\n",
    "    j = factorial(i)\n",
    "    lists.append(j)\n",
    "print(sum(lists))"
   ]
  },
  {
   "cell_type": "code",
   "execution_count": 23,
   "metadata": {},
   "outputs": [
    {
     "name": "stdout",
     "output_type": "stream",
     "text": [
      "[('鸡蛋', '水'), ('鸡蛋', '虾'), ('鸡蛋', '鱼肉'), ('鸡蛋', '鸡肉'), ('水', '鸡蛋'), ('水', '虾'), ('水', '鱼肉'), ('水', '鸡肉'), ('虾', '鸡蛋'), ('虾', '水'), ('虾', '鱼肉'), ('虾', '鸡肉'), ('鱼肉', '鸡蛋'), ('鱼肉', '水'), ('鱼肉', '虾'), ('鱼肉', '鸡肉'), ('鸡肉', '鸡蛋'), ('鸡肉', '水'), ('鸡肉', '虾'), ('鸡肉', '鱼肉')]\n"
     ]
    }
   ],
   "source": [
    "import itertools\n",
    "list1 = [\"鸡蛋\",\"水\",\"虾\",\"鱼肉\",\"鸡肉\"]\n",
    "print(list(itertools.permutations(list1, 2)))"
   ]
  },
  {
   "cell_type": "code",
   "execution_count": 27,
   "metadata": {},
   "outputs": [
    {
     "name": "stdout",
     "output_type": "stream",
     "text": [
      "78.53981633974483 31.41592653589793\n"
     ]
    }
   ],
   "source": [
    "import math\n",
    "a = int(input())\n",
    "print(math.pi*(a**2),math.pi*a*2)"
   ]
  },
  {
   "cell_type": "code",
   "execution_count": 28,
   "metadata": {},
   "outputs": [
    {
     "name": "stdout",
     "output_type": "stream",
     "text": [
      "你好,koishi!\n"
     ]
    }
   ],
   "source": [
    "name = input(\"输入你的姓名：\")\n",
    "print(\"你好,\"+name+\"!\")"
   ]
  },
  {
   "cell_type": "code",
   "execution_count": 37,
   "metadata": {},
   "outputs": [
    {
     "name": "stdout",
     "output_type": "stream",
     "text": [
      "[1, 1, 2, 3, 5, 8, 13, 21, 34, 55, 89, 144, 233, 377, 610, 987, 1597, 2584, 4181, 6765, 10946, 17711, 28657, 46368, 75025, 121393, 196418, 317811, 514229, 832040, 1346269, 2178309, 3524578, 5702887, 9227465, 14930352, 24157817, 39088169, 63245986, 102334155, 165580141, 267914296, 433494437, 701408733, 1134903170, 1836311903, 2971215073, 4807526976, 7778742049, 12586269025, 20365011074, 32951280099, 53316291173, 86267571272, 139583862445, 225851433717, 365435296162, 591286729879, 956722026041, 1548008755920, 2504730781961, 4052739537881, 6557470319842, 10610209857723, 17167680177565, 27777890035288, 44945570212853, 72723460248141, 117669030460994, 190392490709135, 308061521170129, 498454011879264, 806515533049393, 1304969544928657, 2111485077978050, 3416454622906707, 5527939700884757, 8944394323791464, 14472334024676221, 23416728348467685, 37889062373143906, 61305790721611591, 99194853094755497, 160500643816367088, 259695496911122585, 420196140727489673, 679891637638612258, 1100087778366101931, 1779979416004714189, 2880067194370816120, 4660046610375530309, 7540113804746346429, 12200160415121876738, 19740274219868223167, 31940434634990099905, 51680708854858323072, 83621143489848422977, 135301852344706746049, 218922995834555169026, 354224848179261915075]\n"
     ]
    }
   ],
   "source": [
    "def f(n):\n",
    "    f1=f2=1\n",
    "    list1 = [f1,f2]\n",
    "    for i in range(n-2):\n",
    "        f1,f2=f2,f1+f2\n",
    "        list1.append(f2)\n",
    "    print(list1)\n",
    "f(100)\n"
   ]
  },
  {
   "cell_type": "code",
   "execution_count": 39,
   "metadata": {},
   "outputs": [
    {
     "name": "stdout",
     "output_type": "stream",
     "text": [
      "37.77777777777778\n"
     ]
    }
   ],
   "source": [
    "def solution1(C):\n",
    "    F = C * 1.8 + 32\n",
    "    print(F)\n",
    "\n",
    "def solution2(F):\n",
    "    C = ( F - 32 ) / 1.8\n",
    "    print(C)\n",
    "\n",
    "a = input(\"choose F or C:\")\n",
    "if a == 'F':\n",
    "    solution2(int(input(\"enter the number:\")))\n",
    "elif a == 'C':\n",
    "    solution1(int(input(\"enter the number:\")))\n",
    "else:\n",
    "    pass"
   ]
  },
  {
   "cell_type": "code",
   "execution_count": 40,
   "metadata": {},
   "outputs": [
    {
     "name": "stdout",
     "output_type": "stream",
     "text": [
      "600\n"
     ]
    }
   ],
   "source": [
    "def solution1(RMB):\n",
    "    USD = RMB/6\n",
    "    print(USD)\n",
    "\n",
    "def solution2(USD):\n",
    "    RMB = USD*6\n",
    "    print(RMB)\n",
    "\n",
    "a = input(\"choose USD or RMB:\")\n",
    "if a == 'USD':\n",
    "    solution2(int(input(\"enter the number:\")))\n",
    "elif a == 'RMB':\n",
    "    solution1(int(input(\"enter the number:\")))\n",
    "else:\n",
    "    pass"
   ]
  },
  {
   "cell_type": "code",
   "execution_count": 41,
   "metadata": {},
   "outputs": [
    {
     "name": "stdout",
     "output_type": "stream",
     "text": [
      "true\n"
     ]
    }
   ],
   "source": [
    "def isOdd(a):\n",
    "    if a%2 != 0:\n",
    "        return print(\"true\")\n",
    "    elif a%2 == 0:\n",
    "        return print(\"false\")\n",
    "\n",
    "isOdd(56415251)"
   ]
  },
  {
   "cell_type": "code",
   "execution_count": 58,
   "metadata": {},
   "outputs": [
    {
     "name": "stdout",
     "output_type": "stream",
     "text": [
      "720\n"
     ]
    }
   ],
   "source": [
    "list1 = []\n",
    "\n",
    "def multi(list1):\n",
    "    re = 1\n",
    "    for i in list1:\n",
    "        re = re*i\n",
    "    return print(re)\n",
    "\n",
    "def iner():\n",
    "    a = input()\n",
    "    if len(a) != 0:\n",
    "        list1.append(int(a))\n",
    "        iner()\n",
    "    else:\n",
    "        multi(list1)\n",
    "\n",
    "iner()\n",
    "\n",
    "#回车结束输入"
   ]
  },
  {
   "cell_type": "code",
   "execution_count": 63,
   "metadata": {},
   "outputs": [
    {
     "name": "stdout",
     "output_type": "stream",
     "text": [
      "2003--10--21 00:00:00\n",
      "生日为2003年10月21日0时0分0秒\n",
      "生日是2003年第43周星期2\n",
      "Tue Oct 21 00:00:00 2003\n",
      "生日是自00001年1月1日第731509天\n",
      "生日是星期2\n",
      "03--10--21--Tuesday 00:00:00\n",
      "2003-10-21T00:00:00\n"
     ]
    }
   ],
   "source": [
    "from datetime import*\n",
    "\n",
    "dt = datetime(2003,10,21)\n",
    "m = dt.isocalendar()\n",
    "print(dt.strftime('%Y--%m--%d %H:%M:%S'))\n",
    "print('生日为{}年{}月{}日{}时{}分{}秒'.format(dt.year, dt.month, dt.day, dt.hour, dt.minute, dt.second))\n",
    "print('生日是{}年第{}周星期{}'.format(m[0], m[1], m[2]))\n",
    "print(dt.ctime())\n",
    "print('生日是自00001年1月1日第{}天'.format(dt.toordinal()))\n",
    "print('生日是星期{}'.format(dt.weekday()+1))\n",
    "print(dt.strftime('%y--%m--%d--%A %H:%M:%S'))\n",
    "print(dt.isoformat())"
   ]
  }
 ],
 "metadata": {
  "kernelspec": {
   "display_name": "Python 3.9.12 ('base')",
   "language": "python",
   "name": "python3"
  },
  "language_info": {
   "codemirror_mode": {
    "name": "ipython",
    "version": 3
   },
   "file_extension": ".py",
   "mimetype": "text/x-python",
   "name": "python",
   "nbconvert_exporter": "python",
   "pygments_lexer": "ipython3",
   "version": "3.9.12"
  },
  "orig_nbformat": 4,
  "vscode": {
   "interpreter": {
    "hash": "5179d32cf6ec497baf3f8a3ef987cc77c5d2dc691fdde20a56316522f61a7323"
   }
  }
 },
 "nbformat": 4,
 "nbformat_minor": 2
}
